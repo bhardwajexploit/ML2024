{
 "cells": [
  {
   "cell_type": "code",
   "execution_count": 31,
   "metadata": {},
   "outputs": [],
   "source": [
    "import pandas as pd\n",
    "import numpy as np\n"
   ]
  },
  {
   "cell_type": "code",
   "execution_count": 32,
   "metadata": {},
   "outputs": [],
   "source": [
    "df=pd.read_csv('/Users/ayush/Desktop/ML2024/Datasets/imdb_movies.csv')"
   ]
  },
  {
   "cell_type": "code",
   "execution_count": 33,
   "metadata": {},
   "outputs": [
    {
     "data": {
      "text/html": [
       "<div>\n",
       "<style scoped>\n",
       "    .dataframe tbody tr th:only-of-type {\n",
       "        vertical-align: middle;\n",
       "    }\n",
       "\n",
       "    .dataframe tbody tr th {\n",
       "        vertical-align: top;\n",
       "    }\n",
       "\n",
       "    .dataframe thead th {\n",
       "        text-align: right;\n",
       "    }\n",
       "</style>\n",
       "<table border=\"1\" class=\"dataframe\">\n",
       "  <thead>\n",
       "    <tr style=\"text-align: right;\">\n",
       "      <th></th>\n",
       "      <th>names</th>\n",
       "      <th>date_x</th>\n",
       "      <th>score</th>\n",
       "      <th>genre</th>\n",
       "      <th>overview</th>\n",
       "      <th>crew</th>\n",
       "      <th>orig_title</th>\n",
       "      <th>status</th>\n",
       "      <th>orig_lang</th>\n",
       "      <th>budget_x</th>\n",
       "      <th>revenue</th>\n",
       "      <th>country</th>\n",
       "    </tr>\n",
       "  </thead>\n",
       "  <tbody>\n",
       "    <tr>\n",
       "      <th>0</th>\n",
       "      <td>Creed III</td>\n",
       "      <td>03/02/2023</td>\n",
       "      <td>73.0</td>\n",
       "      <td>Drama, Action</td>\n",
       "      <td>After dominating the boxing world, Adonis Cree...</td>\n",
       "      <td>Michael B. Jordan, Adonis Creed, Tessa Thompso...</td>\n",
       "      <td>Creed III</td>\n",
       "      <td>Released</td>\n",
       "      <td>English</td>\n",
       "      <td>75000000.0</td>\n",
       "      <td>2.716167e+08</td>\n",
       "      <td>AU</td>\n",
       "    </tr>\n",
       "    <tr>\n",
       "      <th>1</th>\n",
       "      <td>Avatar: The Way of Water</td>\n",
       "      <td>12/15/2022</td>\n",
       "      <td>78.0</td>\n",
       "      <td>Science Fiction, Adventure, Action</td>\n",
       "      <td>Set more than a decade after the events of the...</td>\n",
       "      <td>Sam Worthington, Jake Sully, Zoe Saldaña, Neyt...</td>\n",
       "      <td>Avatar: The Way of Water</td>\n",
       "      <td>Released</td>\n",
       "      <td>English</td>\n",
       "      <td>460000000.0</td>\n",
       "      <td>2.316795e+09</td>\n",
       "      <td>AU</td>\n",
       "    </tr>\n",
       "    <tr>\n",
       "      <th>2</th>\n",
       "      <td>The Super Mario Bros. Movie</td>\n",
       "      <td>04/05/2023</td>\n",
       "      <td>76.0</td>\n",
       "      <td>Animation, Adventure, Family, Fantasy, Comedy</td>\n",
       "      <td>While working underground to fix a water main,...</td>\n",
       "      <td>Chris Pratt, Mario (voice), Anya Taylor-Joy, P...</td>\n",
       "      <td>The Super Mario Bros. Movie</td>\n",
       "      <td>Released</td>\n",
       "      <td>English</td>\n",
       "      <td>100000000.0</td>\n",
       "      <td>7.244590e+08</td>\n",
       "      <td>AU</td>\n",
       "    </tr>\n",
       "    <tr>\n",
       "      <th>3</th>\n",
       "      <td>Mummies</td>\n",
       "      <td>01/05/2023</td>\n",
       "      <td>70.0</td>\n",
       "      <td>Animation, Comedy, Family, Adventure, Fantasy</td>\n",
       "      <td>Through a series of unfortunate events, three ...</td>\n",
       "      <td>Óscar Barberán, Thut (voice), Ana Esther Albor...</td>\n",
       "      <td>Momias</td>\n",
       "      <td>Released</td>\n",
       "      <td>Spanish, Castilian</td>\n",
       "      <td>12300000.0</td>\n",
       "      <td>3.420000e+07</td>\n",
       "      <td>AU</td>\n",
       "    </tr>\n",
       "    <tr>\n",
       "      <th>4</th>\n",
       "      <td>Supercell</td>\n",
       "      <td>03/17/2023</td>\n",
       "      <td>61.0</td>\n",
       "      <td>Action</td>\n",
       "      <td>Good-hearted teenager William always lived in ...</td>\n",
       "      <td>Skeet Ulrich, Roy Cameron, Anne Heche, Dr Quin...</td>\n",
       "      <td>Supercell</td>\n",
       "      <td>Released</td>\n",
       "      <td>English</td>\n",
       "      <td>77000000.0</td>\n",
       "      <td>3.409420e+08</td>\n",
       "      <td>US</td>\n",
       "    </tr>\n",
       "  </tbody>\n",
       "</table>\n",
       "</div>"
      ],
      "text/plain": [
       "                         names       date_x  score  \\\n",
       "0                    Creed III  03/02/2023    73.0   \n",
       "1     Avatar: The Way of Water  12/15/2022    78.0   \n",
       "2  The Super Mario Bros. Movie  04/05/2023    76.0   \n",
       "3                      Mummies  01/05/2023    70.0   \n",
       "4                    Supercell  03/17/2023    61.0   \n",
       "\n",
       "                                           genre  \\\n",
       "0                                  Drama, Action   \n",
       "1             Science Fiction, Adventure, Action   \n",
       "2  Animation, Adventure, Family, Fantasy, Comedy   \n",
       "3  Animation, Comedy, Family, Adventure, Fantasy   \n",
       "4                                         Action   \n",
       "\n",
       "                                            overview  \\\n",
       "0  After dominating the boxing world, Adonis Cree...   \n",
       "1  Set more than a decade after the events of the...   \n",
       "2  While working underground to fix a water main,...   \n",
       "3  Through a series of unfortunate events, three ...   \n",
       "4  Good-hearted teenager William always lived in ...   \n",
       "\n",
       "                                                crew  \\\n",
       "0  Michael B. Jordan, Adonis Creed, Tessa Thompso...   \n",
       "1  Sam Worthington, Jake Sully, Zoe Saldaña, Neyt...   \n",
       "2  Chris Pratt, Mario (voice), Anya Taylor-Joy, P...   \n",
       "3  Óscar Barberán, Thut (voice), Ana Esther Albor...   \n",
       "4  Skeet Ulrich, Roy Cameron, Anne Heche, Dr Quin...   \n",
       "\n",
       "                    orig_title     status            orig_lang     budget_x  \\\n",
       "0                    Creed III   Released              English   75000000.0   \n",
       "1     Avatar: The Way of Water   Released              English  460000000.0   \n",
       "2  The Super Mario Bros. Movie   Released              English  100000000.0   \n",
       "3                       Momias   Released   Spanish, Castilian   12300000.0   \n",
       "4                    Supercell   Released              English   77000000.0   \n",
       "\n",
       "        revenue country  \n",
       "0  2.716167e+08      AU  \n",
       "1  2.316795e+09      AU  \n",
       "2  7.244590e+08      AU  \n",
       "3  3.420000e+07      AU  \n",
       "4  3.409420e+08      US  "
      ]
     },
     "execution_count": 33,
     "metadata": {},
     "output_type": "execute_result"
    }
   ],
   "source": [
    "df.head()"
   ]
  },
  {
   "cell_type": "code",
   "execution_count": 34,
   "metadata": {},
   "outputs": [
    {
     "data": {
      "text/plain": [
       "names          0\n",
       "date_x         0\n",
       "score          0\n",
       "genre         85\n",
       "overview       0\n",
       "crew          56\n",
       "orig_title     0\n",
       "status         0\n",
       "orig_lang      0\n",
       "budget_x       0\n",
       "revenue        0\n",
       "country        0\n",
       "dtype: int64"
      ]
     },
     "execution_count": 34,
     "metadata": {},
     "output_type": "execute_result"
    }
   ],
   "source": [
    "df.isnull().sum()"
   ]
  },
  {
   "cell_type": "code",
   "execution_count": 35,
   "metadata": {},
   "outputs": [
    {
     "data": {
      "text/plain": [
       "(10178, 12)"
      ]
     },
     "execution_count": 35,
     "metadata": {},
     "output_type": "execute_result"
    }
   ],
   "source": [
    "df.shape"
   ]
  },
  {
   "cell_type": "code",
   "execution_count": 36,
   "metadata": {},
   "outputs": [],
   "source": [
    "df.orig_lang=df.orig_lang.apply(lambda x:x.strip())"
   ]
  },
  {
   "cell_type": "code",
   "execution_count": 37,
   "metadata": {},
   "outputs": [],
   "source": [
    "movies=df[df['orig_lang']== \"English\"].copy().reset_index(drop=True)"
   ]
  },
  {
   "cell_type": "code",
   "execution_count": 38,
   "metadata": {},
   "outputs": [],
   "source": [
    "movies['text']=movies['names'] + ' ' + movies['overview']"
   ]
  },
  {
   "cell_type": "code",
   "execution_count": 39,
   "metadata": {},
   "outputs": [
    {
     "data": {
      "text/plain": [
       "0       Creed III After dominating the boxing world, A...\n",
       "1       Avatar: The Way of Water Set more than a decad...\n",
       "2       The Super Mario Bros. Movie While working unde...\n",
       "3       Supercell Good-hearted teenager William always...\n",
       "4       Cocaine Bear Inspired by a true story, an oddb...\n",
       "                              ...                        \n",
       "7412    20th Century Women In 1979 Santa Barbara, Cali...\n",
       "7413    Delta Force 2: The Colombian Connection When D...\n",
       "7414    The Russia House Barley Scott Blair, a Lisbon-...\n",
       "7415    Darkman II: The Return of Durant Darkman and D...\n",
       "7416    The Swan Princess: A Royal Wedding Princess Od...\n",
       "Name: text, Length: 7417, dtype: object"
      ]
     },
     "execution_count": 39,
     "metadata": {},
     "output_type": "execute_result"
    }
   ],
   "source": [
    "movies.text"
   ]
  },
  {
   "cell_type": "code",
   "execution_count": 40,
   "metadata": {},
   "outputs": [
    {
     "data": {
      "text/html": [
       "<div>\n",
       "<style scoped>\n",
       "    .dataframe tbody tr th:only-of-type {\n",
       "        vertical-align: middle;\n",
       "    }\n",
       "\n",
       "    .dataframe tbody tr th {\n",
       "        vertical-align: top;\n",
       "    }\n",
       "\n",
       "    .dataframe thead th {\n",
       "        text-align: right;\n",
       "    }\n",
       "</style>\n",
       "<table border=\"1\" class=\"dataframe\">\n",
       "  <thead>\n",
       "    <tr style=\"text-align: right;\">\n",
       "      <th></th>\n",
       "      <th>names</th>\n",
       "      <th>date_x</th>\n",
       "      <th>score</th>\n",
       "      <th>genre</th>\n",
       "      <th>overview</th>\n",
       "      <th>crew</th>\n",
       "      <th>orig_title</th>\n",
       "      <th>status</th>\n",
       "      <th>orig_lang</th>\n",
       "      <th>budget_x</th>\n",
       "      <th>revenue</th>\n",
       "      <th>country</th>\n",
       "      <th>text</th>\n",
       "    </tr>\n",
       "  </thead>\n",
       "  <tbody>\n",
       "    <tr>\n",
       "      <th>0</th>\n",
       "      <td>Creed III</td>\n",
       "      <td>03/02/2023</td>\n",
       "      <td>73.0</td>\n",
       "      <td>Drama, Action</td>\n",
       "      <td>After dominating the boxing world, Adonis Cree...</td>\n",
       "      <td>Michael B. Jordan, Adonis Creed, Tessa Thompso...</td>\n",
       "      <td>Creed III</td>\n",
       "      <td>Released</td>\n",
       "      <td>English</td>\n",
       "      <td>75000000.0</td>\n",
       "      <td>2.716167e+08</td>\n",
       "      <td>AU</td>\n",
       "      <td>Creed III After dominating the boxing world, A...</td>\n",
       "    </tr>\n",
       "    <tr>\n",
       "      <th>1</th>\n",
       "      <td>Avatar: The Way of Water</td>\n",
       "      <td>12/15/2022</td>\n",
       "      <td>78.0</td>\n",
       "      <td>Science Fiction, Adventure, Action</td>\n",
       "      <td>Set more than a decade after the events of the...</td>\n",
       "      <td>Sam Worthington, Jake Sully, Zoe Saldaña, Neyt...</td>\n",
       "      <td>Avatar: The Way of Water</td>\n",
       "      <td>Released</td>\n",
       "      <td>English</td>\n",
       "      <td>460000000.0</td>\n",
       "      <td>2.316795e+09</td>\n",
       "      <td>AU</td>\n",
       "      <td>Avatar: The Way of Water Set more than a decad...</td>\n",
       "    </tr>\n",
       "    <tr>\n",
       "      <th>2</th>\n",
       "      <td>The Super Mario Bros. Movie</td>\n",
       "      <td>04/05/2023</td>\n",
       "      <td>76.0</td>\n",
       "      <td>Animation, Adventure, Family, Fantasy, Comedy</td>\n",
       "      <td>While working underground to fix a water main,...</td>\n",
       "      <td>Chris Pratt, Mario (voice), Anya Taylor-Joy, P...</td>\n",
       "      <td>The Super Mario Bros. Movie</td>\n",
       "      <td>Released</td>\n",
       "      <td>English</td>\n",
       "      <td>100000000.0</td>\n",
       "      <td>7.244590e+08</td>\n",
       "      <td>AU</td>\n",
       "      <td>The Super Mario Bros. Movie While working unde...</td>\n",
       "    </tr>\n",
       "    <tr>\n",
       "      <th>3</th>\n",
       "      <td>Supercell</td>\n",
       "      <td>03/17/2023</td>\n",
       "      <td>61.0</td>\n",
       "      <td>Action</td>\n",
       "      <td>Good-hearted teenager William always lived in ...</td>\n",
       "      <td>Skeet Ulrich, Roy Cameron, Anne Heche, Dr Quin...</td>\n",
       "      <td>Supercell</td>\n",
       "      <td>Released</td>\n",
       "      <td>English</td>\n",
       "      <td>77000000.0</td>\n",
       "      <td>3.409420e+08</td>\n",
       "      <td>US</td>\n",
       "      <td>Supercell Good-hearted teenager William always...</td>\n",
       "    </tr>\n",
       "    <tr>\n",
       "      <th>4</th>\n",
       "      <td>Cocaine Bear</td>\n",
       "      <td>02/23/2023</td>\n",
       "      <td>66.0</td>\n",
       "      <td>Thriller, Comedy, Crime</td>\n",
       "      <td>Inspired by a true story, an oddball group of ...</td>\n",
       "      <td>Keri Russell, Sari, Alden Ehrenreich, Eddie, O...</td>\n",
       "      <td>Cocaine Bear</td>\n",
       "      <td>Released</td>\n",
       "      <td>English</td>\n",
       "      <td>35000000.0</td>\n",
       "      <td>8.000000e+07</td>\n",
       "      <td>AU</td>\n",
       "      <td>Cocaine Bear Inspired by a true story, an oddb...</td>\n",
       "    </tr>\n",
       "    <tr>\n",
       "      <th>...</th>\n",
       "      <td>...</td>\n",
       "      <td>...</td>\n",
       "      <td>...</td>\n",
       "      <td>...</td>\n",
       "      <td>...</td>\n",
       "      <td>...</td>\n",
       "      <td>...</td>\n",
       "      <td>...</td>\n",
       "      <td>...</td>\n",
       "      <td>...</td>\n",
       "      <td>...</td>\n",
       "      <td>...</td>\n",
       "      <td>...</td>\n",
       "    </tr>\n",
       "    <tr>\n",
       "      <th>7412</th>\n",
       "      <td>20th Century Women</td>\n",
       "      <td>12/28/2016</td>\n",
       "      <td>73.0</td>\n",
       "      <td>Drama</td>\n",
       "      <td>In 1979 Santa Barbara, California, Dorothea Fi...</td>\n",
       "      <td>Annette Bening, Dorothea Fields, Lucas Jade Zu...</td>\n",
       "      <td>20th Century Women</td>\n",
       "      <td>Released</td>\n",
       "      <td>English</td>\n",
       "      <td>7000000.0</td>\n",
       "      <td>9.353729e+06</td>\n",
       "      <td>US</td>\n",
       "      <td>20th Century Women In 1979 Santa Barbara, Cali...</td>\n",
       "    </tr>\n",
       "    <tr>\n",
       "      <th>7413</th>\n",
       "      <td>Delta Force 2: The Colombian Connection</td>\n",
       "      <td>08/24/1990</td>\n",
       "      <td>54.0</td>\n",
       "      <td>Action</td>\n",
       "      <td>When DEA agents are taken captive by a ruthles...</td>\n",
       "      <td>Chuck Norris, Col. Scott McCoy, Billy Drago, R...</td>\n",
       "      <td>Delta Force 2: The Colombian Connection</td>\n",
       "      <td>Released</td>\n",
       "      <td>English</td>\n",
       "      <td>9145817.8</td>\n",
       "      <td>6.698361e+06</td>\n",
       "      <td>US</td>\n",
       "      <td>Delta Force 2: The Colombian Connection When D...</td>\n",
       "    </tr>\n",
       "    <tr>\n",
       "      <th>7414</th>\n",
       "      <td>The Russia House</td>\n",
       "      <td>12/21/1990</td>\n",
       "      <td>61.0</td>\n",
       "      <td>Drama, Thriller, Romance</td>\n",
       "      <td>Barley Scott Blair, a Lisbon-based editor of R...</td>\n",
       "      <td>Sean Connery, Bartholomew 'Barley' Scott Blair...</td>\n",
       "      <td>The Russia House</td>\n",
       "      <td>Released</td>\n",
       "      <td>English</td>\n",
       "      <td>21800000.0</td>\n",
       "      <td>2.299799e+07</td>\n",
       "      <td>US</td>\n",
       "      <td>The Russia House Barley Scott Blair, a Lisbon-...</td>\n",
       "    </tr>\n",
       "    <tr>\n",
       "      <th>7415</th>\n",
       "      <td>Darkman II: The Return of Durant</td>\n",
       "      <td>07/11/1995</td>\n",
       "      <td>55.0</td>\n",
       "      <td>Action, Adventure, Science Fiction, Thriller, ...</td>\n",
       "      <td>Darkman and Durant return and they hate each o...</td>\n",
       "      <td>Larry Drake, Robert G. Durant, Arnold Vosloo, ...</td>\n",
       "      <td>Darkman II: The Return of Durant</td>\n",
       "      <td>Released</td>\n",
       "      <td>English</td>\n",
       "      <td>116000000.0</td>\n",
       "      <td>4.756613e+08</td>\n",
       "      <td>US</td>\n",
       "      <td>Darkman II: The Return of Durant Darkman and D...</td>\n",
       "    </tr>\n",
       "    <tr>\n",
       "      <th>7416</th>\n",
       "      <td>The Swan Princess: A Royal Wedding</td>\n",
       "      <td>07/20/2020</td>\n",
       "      <td>70.0</td>\n",
       "      <td>Animation, Family, Fantasy</td>\n",
       "      <td>Princess Odette and Prince Derek are going to ...</td>\n",
       "      <td>Nina Herzog, Princess Odette (voice), Yuri Low...</td>\n",
       "      <td>The Swan Princess: A Royal Wedding</td>\n",
       "      <td>Released</td>\n",
       "      <td>English</td>\n",
       "      <td>92400000.0</td>\n",
       "      <td>5.394018e+08</td>\n",
       "      <td>GB</td>\n",
       "      <td>The Swan Princess: A Royal Wedding Princess Od...</td>\n",
       "    </tr>\n",
       "  </tbody>\n",
       "</table>\n",
       "<p>7417 rows × 13 columns</p>\n",
       "</div>"
      ],
      "text/plain": [
       "                                        names       date_x  score  \\\n",
       "0                                   Creed III  03/02/2023    73.0   \n",
       "1                    Avatar: The Way of Water  12/15/2022    78.0   \n",
       "2                 The Super Mario Bros. Movie  04/05/2023    76.0   \n",
       "3                                   Supercell  03/17/2023    61.0   \n",
       "4                                Cocaine Bear  02/23/2023    66.0   \n",
       "...                                       ...          ...    ...   \n",
       "7412                       20th Century Women  12/28/2016    73.0   \n",
       "7413  Delta Force 2: The Colombian Connection  08/24/1990    54.0   \n",
       "7414                         The Russia House  12/21/1990    61.0   \n",
       "7415         Darkman II: The Return of Durant  07/11/1995    55.0   \n",
       "7416       The Swan Princess: A Royal Wedding  07/20/2020    70.0   \n",
       "\n",
       "                                                  genre  \\\n",
       "0                                         Drama, Action   \n",
       "1                    Science Fiction, Adventure, Action   \n",
       "2         Animation, Adventure, Family, Fantasy, Comedy   \n",
       "3                                                Action   \n",
       "4                               Thriller, Comedy, Crime   \n",
       "...                                                 ...   \n",
       "7412                                              Drama   \n",
       "7413                                             Action   \n",
       "7414                           Drama, Thriller, Romance   \n",
       "7415  Action, Adventure, Science Fiction, Thriller, ...   \n",
       "7416                         Animation, Family, Fantasy   \n",
       "\n",
       "                                               overview  \\\n",
       "0     After dominating the boxing world, Adonis Cree...   \n",
       "1     Set more than a decade after the events of the...   \n",
       "2     While working underground to fix a water main,...   \n",
       "3     Good-hearted teenager William always lived in ...   \n",
       "4     Inspired by a true story, an oddball group of ...   \n",
       "...                                                 ...   \n",
       "7412  In 1979 Santa Barbara, California, Dorothea Fi...   \n",
       "7413  When DEA agents are taken captive by a ruthles...   \n",
       "7414  Barley Scott Blair, a Lisbon-based editor of R...   \n",
       "7415  Darkman and Durant return and they hate each o...   \n",
       "7416  Princess Odette and Prince Derek are going to ...   \n",
       "\n",
       "                                                   crew  \\\n",
       "0     Michael B. Jordan, Adonis Creed, Tessa Thompso...   \n",
       "1     Sam Worthington, Jake Sully, Zoe Saldaña, Neyt...   \n",
       "2     Chris Pratt, Mario (voice), Anya Taylor-Joy, P...   \n",
       "3     Skeet Ulrich, Roy Cameron, Anne Heche, Dr Quin...   \n",
       "4     Keri Russell, Sari, Alden Ehrenreich, Eddie, O...   \n",
       "...                                                 ...   \n",
       "7412  Annette Bening, Dorothea Fields, Lucas Jade Zu...   \n",
       "7413  Chuck Norris, Col. Scott McCoy, Billy Drago, R...   \n",
       "7414  Sean Connery, Bartholomew 'Barley' Scott Blair...   \n",
       "7415  Larry Drake, Robert G. Durant, Arnold Vosloo, ...   \n",
       "7416  Nina Herzog, Princess Odette (voice), Yuri Low...   \n",
       "\n",
       "                                   orig_title     status orig_lang  \\\n",
       "0                                   Creed III   Released   English   \n",
       "1                    Avatar: The Way of Water   Released   English   \n",
       "2                 The Super Mario Bros. Movie   Released   English   \n",
       "3                                   Supercell   Released   English   \n",
       "4                                Cocaine Bear   Released   English   \n",
       "...                                       ...        ...       ...   \n",
       "7412                       20th Century Women   Released   English   \n",
       "7413  Delta Force 2: The Colombian Connection   Released   English   \n",
       "7414                         The Russia House   Released   English   \n",
       "7415         Darkman II: The Return of Durant   Released   English   \n",
       "7416       The Swan Princess: A Royal Wedding   Released   English   \n",
       "\n",
       "         budget_x       revenue country  \\\n",
       "0      75000000.0  2.716167e+08      AU   \n",
       "1     460000000.0  2.316795e+09      AU   \n",
       "2     100000000.0  7.244590e+08      AU   \n",
       "3      77000000.0  3.409420e+08      US   \n",
       "4      35000000.0  8.000000e+07      AU   \n",
       "...           ...           ...     ...   \n",
       "7412    7000000.0  9.353729e+06      US   \n",
       "7413    9145817.8  6.698361e+06      US   \n",
       "7414   21800000.0  2.299799e+07      US   \n",
       "7415  116000000.0  4.756613e+08      US   \n",
       "7416   92400000.0  5.394018e+08      GB   \n",
       "\n",
       "                                                   text  \n",
       "0     Creed III After dominating the boxing world, A...  \n",
       "1     Avatar: The Way of Water Set more than a decad...  \n",
       "2     The Super Mario Bros. Movie While working unde...  \n",
       "3     Supercell Good-hearted teenager William always...  \n",
       "4     Cocaine Bear Inspired by a true story, an oddb...  \n",
       "...                                                 ...  \n",
       "7412  20th Century Women In 1979 Santa Barbara, Cali...  \n",
       "7413  Delta Force 2: The Colombian Connection When D...  \n",
       "7414  The Russia House Barley Scott Blair, a Lisbon-...  \n",
       "7415  Darkman II: The Return of Durant Darkman and D...  \n",
       "7416  The Swan Princess: A Royal Wedding Princess Od...  \n",
       "\n",
       "[7417 rows x 13 columns]"
      ]
     },
     "execution_count": 40,
     "metadata": {},
     "output_type": "execute_result"
    }
   ],
   "source": [
    "movies"
   ]
  },
  {
   "cell_type": "code",
   "execution_count": 41,
   "metadata": {},
   "outputs": [],
   "source": [
    "from sklearn.feature_extraction.text import TfidfVectorizer\n",
    "from sklearn.metrics.pairwise import cosine_similarity"
   ]
  },
  {
   "cell_type": "code",
   "execution_count": 42,
   "metadata": {},
   "outputs": [],
   "source": [
    "vec=TfidfVectorizer(stop_words='english')\n",
    "X=movies['text']\n",
    "matrix=vec.fit_transform(X)\n",
    "sim=cosine_similarity(matrix,matrix)\n"
   ]
  },
  {
   "cell_type": "code",
   "execution_count": 43,
   "metadata": {},
   "outputs": [],
   "source": [
    "import seaborn as sns"
   ]
  },
  {
   "cell_type": "code",
   "execution_count": 44,
   "metadata": {},
   "outputs": [
    {
     "ename": "KeyError",
     "evalue": "\"'ver' is not a known colormap name\"",
     "output_type": "error",
     "traceback": [
      "\u001b[0;31m---------------------------------------------------------------------------\u001b[0m",
      "\u001b[0;31mKeyError\u001b[0m                                  Traceback (most recent call last)",
      "Cell \u001b[0;32mIn[44], line 1\u001b[0m\n\u001b[0;32m----> 1\u001b[0m \u001b[43msns\u001b[49m\u001b[38;5;241;43m.\u001b[39;49m\u001b[43mheatmap\u001b[49m\u001b[43m(\u001b[49m\u001b[43msim\u001b[49m\u001b[43m,\u001b[49m\u001b[43mcmap\u001b[49m\u001b[38;5;241;43m=\u001b[39;49m\u001b[38;5;124;43m'\u001b[39;49m\u001b[38;5;124;43mver\u001b[39;49m\u001b[38;5;124;43m'\u001b[39;49m\u001b[43m)\u001b[49m\n",
      "File \u001b[0;32m~/miniconda3/lib/python3.10/site-packages/seaborn/matrix.py:446\u001b[0m, in \u001b[0;36mheatmap\u001b[0;34m(data, vmin, vmax, cmap, center, robust, annot, fmt, annot_kws, linewidths, linecolor, cbar, cbar_kws, cbar_ax, square, xticklabels, yticklabels, mask, ax, **kwargs)\u001b[0m\n\u001b[1;32m    365\u001b[0m \u001b[38;5;250m\u001b[39m\u001b[38;5;124;03m\"\"\"Plot rectangular data as a color-encoded matrix.\u001b[39;00m\n\u001b[1;32m    366\u001b[0m \n\u001b[1;32m    367\u001b[0m \u001b[38;5;124;03mThis is an Axes-level function and will draw the heatmap into the\u001b[39;00m\n\u001b[0;32m   (...)\u001b[0m\n\u001b[1;32m    443\u001b[0m \n\u001b[1;32m    444\u001b[0m \u001b[38;5;124;03m\"\"\"\u001b[39;00m\n\u001b[1;32m    445\u001b[0m \u001b[38;5;66;03m# Initialize the plotter object\u001b[39;00m\n\u001b[0;32m--> 446\u001b[0m plotter \u001b[38;5;241m=\u001b[39m \u001b[43m_HeatMapper\u001b[49m\u001b[43m(\u001b[49m\u001b[43mdata\u001b[49m\u001b[43m,\u001b[49m\u001b[43m \u001b[49m\u001b[43mvmin\u001b[49m\u001b[43m,\u001b[49m\u001b[43m \u001b[49m\u001b[43mvmax\u001b[49m\u001b[43m,\u001b[49m\u001b[43m \u001b[49m\u001b[43mcmap\u001b[49m\u001b[43m,\u001b[49m\u001b[43m \u001b[49m\u001b[43mcenter\u001b[49m\u001b[43m,\u001b[49m\u001b[43m \u001b[49m\u001b[43mrobust\u001b[49m\u001b[43m,\u001b[49m\u001b[43m \u001b[49m\u001b[43mannot\u001b[49m\u001b[43m,\u001b[49m\u001b[43m \u001b[49m\u001b[43mfmt\u001b[49m\u001b[43m,\u001b[49m\n\u001b[1;32m    447\u001b[0m \u001b[43m                      \u001b[49m\u001b[43mannot_kws\u001b[49m\u001b[43m,\u001b[49m\u001b[43m \u001b[49m\u001b[43mcbar\u001b[49m\u001b[43m,\u001b[49m\u001b[43m \u001b[49m\u001b[43mcbar_kws\u001b[49m\u001b[43m,\u001b[49m\u001b[43m \u001b[49m\u001b[43mxticklabels\u001b[49m\u001b[43m,\u001b[49m\n\u001b[1;32m    448\u001b[0m \u001b[43m                      \u001b[49m\u001b[43myticklabels\u001b[49m\u001b[43m,\u001b[49m\u001b[43m \u001b[49m\u001b[43mmask\u001b[49m\u001b[43m)\u001b[49m\n\u001b[1;32m    450\u001b[0m \u001b[38;5;66;03m# Add the pcolormesh kwargs here\u001b[39;00m\n\u001b[1;32m    451\u001b[0m kwargs[\u001b[38;5;124m\"\u001b[39m\u001b[38;5;124mlinewidths\u001b[39m\u001b[38;5;124m\"\u001b[39m] \u001b[38;5;241m=\u001b[39m linewidths\n",
      "File \u001b[0;32m~/miniconda3/lib/python3.10/site-packages/seaborn/matrix.py:163\u001b[0m, in \u001b[0;36m_HeatMapper.__init__\u001b[0;34m(self, data, vmin, vmax, cmap, center, robust, annot, fmt, annot_kws, cbar, cbar_kws, xticklabels, yticklabels, mask)\u001b[0m\n\u001b[1;32m    160\u001b[0m \u001b[38;5;28mself\u001b[39m\u001b[38;5;241m.\u001b[39mylabel \u001b[38;5;241m=\u001b[39m ylabel \u001b[38;5;28;01mif\u001b[39;00m ylabel \u001b[38;5;129;01mis\u001b[39;00m \u001b[38;5;129;01mnot\u001b[39;00m \u001b[38;5;28;01mNone\u001b[39;00m \u001b[38;5;28;01melse\u001b[39;00m \u001b[38;5;124m\"\u001b[39m\u001b[38;5;124m\"\u001b[39m\n\u001b[1;32m    162\u001b[0m \u001b[38;5;66;03m# Determine good default values for the colormapping\u001b[39;00m\n\u001b[0;32m--> 163\u001b[0m \u001b[38;5;28;43mself\u001b[39;49m\u001b[38;5;241;43m.\u001b[39;49m\u001b[43m_determine_cmap_params\u001b[49m\u001b[43m(\u001b[49m\u001b[43mplot_data\u001b[49m\u001b[43m,\u001b[49m\u001b[43m \u001b[49m\u001b[43mvmin\u001b[49m\u001b[43m,\u001b[49m\u001b[43m \u001b[49m\u001b[43mvmax\u001b[49m\u001b[43m,\u001b[49m\n\u001b[1;32m    164\u001b[0m \u001b[43m                            \u001b[49m\u001b[43mcmap\u001b[49m\u001b[43m,\u001b[49m\u001b[43m \u001b[49m\u001b[43mcenter\u001b[49m\u001b[43m,\u001b[49m\u001b[43m \u001b[49m\u001b[43mrobust\u001b[49m\u001b[43m)\u001b[49m\n\u001b[1;32m    166\u001b[0m \u001b[38;5;66;03m# Sort out the annotations\u001b[39;00m\n\u001b[1;32m    167\u001b[0m \u001b[38;5;28;01mif\u001b[39;00m annot \u001b[38;5;129;01mis\u001b[39;00m \u001b[38;5;28;01mNone\u001b[39;00m \u001b[38;5;129;01mor\u001b[39;00m annot \u001b[38;5;129;01mis\u001b[39;00m \u001b[38;5;28;01mFalse\u001b[39;00m:\n",
      "File \u001b[0;32m~/miniconda3/lib/python3.10/site-packages/seaborn/matrix.py:217\u001b[0m, in \u001b[0;36m_HeatMapper._determine_cmap_params\u001b[0;34m(self, plot_data, vmin, vmax, cmap, center, robust)\u001b[0m\n\u001b[1;32m    215\u001b[0m         \u001b[38;5;28mself\u001b[39m\u001b[38;5;241m.\u001b[39mcmap \u001b[38;5;241m=\u001b[39m cm\u001b[38;5;241m.\u001b[39micefire\n\u001b[1;32m    216\u001b[0m \u001b[38;5;28;01melif\u001b[39;00m \u001b[38;5;28misinstance\u001b[39m(cmap, \u001b[38;5;28mstr\u001b[39m):\n\u001b[0;32m--> 217\u001b[0m     \u001b[38;5;28mself\u001b[39m\u001b[38;5;241m.\u001b[39mcmap \u001b[38;5;241m=\u001b[39m \u001b[43mget_colormap\u001b[49m\u001b[43m(\u001b[49m\u001b[43mcmap\u001b[49m\u001b[43m)\u001b[49m\n\u001b[1;32m    218\u001b[0m \u001b[38;5;28;01melif\u001b[39;00m \u001b[38;5;28misinstance\u001b[39m(cmap, \u001b[38;5;28mlist\u001b[39m):\n\u001b[1;32m    219\u001b[0m     \u001b[38;5;28mself\u001b[39m\u001b[38;5;241m.\u001b[39mcmap \u001b[38;5;241m=\u001b[39m mpl\u001b[38;5;241m.\u001b[39mcolors\u001b[38;5;241m.\u001b[39mListedColormap(cmap)\n",
      "File \u001b[0;32m~/miniconda3/lib/python3.10/site-packages/seaborn/_compat.py:133\u001b[0m, in \u001b[0;36mget_colormap\u001b[0;34m(name)\u001b[0m\n\u001b[1;32m    131\u001b[0m \u001b[38;5;250m\u001b[39m\u001b[38;5;124;03m\"\"\"Handle changes to matplotlib colormap interface in 3.6.\"\"\"\u001b[39;00m\n\u001b[1;32m    132\u001b[0m \u001b[38;5;28;01mtry\u001b[39;00m:\n\u001b[0;32m--> 133\u001b[0m     \u001b[38;5;28;01mreturn\u001b[39;00m \u001b[43mmpl\u001b[49m\u001b[38;5;241;43m.\u001b[39;49m\u001b[43mcolormaps\u001b[49m\u001b[43m[\u001b[49m\u001b[43mname\u001b[49m\u001b[43m]\u001b[49m\n\u001b[1;32m    134\u001b[0m \u001b[38;5;28;01mexcept\u001b[39;00m \u001b[38;5;167;01mAttributeError\u001b[39;00m:\n\u001b[1;32m    135\u001b[0m     \u001b[38;5;28;01mreturn\u001b[39;00m mpl\u001b[38;5;241m.\u001b[39mcm\u001b[38;5;241m.\u001b[39mget_cmap(name)\n",
      "File \u001b[0;32m~/miniconda3/lib/python3.10/site-packages/matplotlib/cm.py:82\u001b[0m, in \u001b[0;36mColormapRegistry.__getitem__\u001b[0;34m(self, item)\u001b[0m\n\u001b[1;32m     80\u001b[0m     \u001b[38;5;28;01mreturn\u001b[39;00m \u001b[38;5;28mself\u001b[39m\u001b[38;5;241m.\u001b[39m_cmaps[item]\u001b[38;5;241m.\u001b[39mcopy()\n\u001b[1;32m     81\u001b[0m \u001b[38;5;28;01mexcept\u001b[39;00m \u001b[38;5;167;01mKeyError\u001b[39;00m:\n\u001b[0;32m---> 82\u001b[0m     \u001b[38;5;28;01mraise\u001b[39;00m \u001b[38;5;167;01mKeyError\u001b[39;00m(\u001b[38;5;124mf\u001b[39m\u001b[38;5;124m\"\u001b[39m\u001b[38;5;132;01m{\u001b[39;00mitem\u001b[38;5;132;01m!r}\u001b[39;00m\u001b[38;5;124m is not a known colormap name\u001b[39m\u001b[38;5;124m\"\u001b[39m) \u001b[38;5;28;01mfrom\u001b[39;00m \u001b[38;5;28;01mNone\u001b[39;00m\n",
      "\u001b[0;31mKeyError\u001b[0m: \"'ver' is not a known colormap name\""
     ]
    }
   ],
   "source": [
    "sns.heatmap(sim)"
   ]
  },
  {
   "cell_type": "code",
   "execution_count": 30,
   "metadata": {},
   "outputs": [
    {
     "data": {
      "text/plain": [
       "4363                      Æon Flux\n",
       "4222                ¡Three Amigos!\n",
       "1648       xXx: State of the Union\n",
       "566     xXx: Return of Xander Cage\n",
       "1941                           xXx\n",
       "                   ...            \n",
       "6460                            10\n",
       "5620       *batteries not included\n",
       "1140          (500) Days of Summer\n",
       "5987                           '71\n",
       "7172                          #FBF\n",
       "Name: names, Length: 7417, dtype: object"
      ]
     },
     "execution_count": 30,
     "metadata": {},
     "output_type": "execute_result"
    }
   ],
   "source": [
    "movies.names.sort_values(ascending=False)"
   ]
  },
  {
   "cell_type": "markdown",
   "metadata": {},
   "source": [
    "Search similar  movies\n"
   ]
  },
  {
   "cell_type": "code",
   "execution_count": 66,
   "metadata": {},
   "outputs": [
    {
     "name": "stdout",
     "output_type": "stream",
     "text": [
      "5620\n",
      "[0.         0.02981901 0.00636316 ... 0.00709978 0.         0.        ]\n"
     ]
    }
   ],
   "source": [
    "mov='*batteries not included'\n",
    "v=10\n",
    "idx=movies[movies['names']== mov ].index[0]\n",
    "print(idx)\n",
    "print(sim[idx])\n"
   ]
  },
  {
   "cell_type": "code",
   "execution_count": 67,
   "metadata": {},
   "outputs": [
    {
     "name": "stdout",
     "output_type": "stream",
     "text": [
      "[0.15809634 0.13975592 0.12079544 0.11447472 0.10976585 0.09890606\n",
      " 0.09263146 0.09250033 0.09079268 0.08495881]\n"
     ]
    }
   ],
   "source": [
    "print(np.sort(sim[idx])[::-1][1:v+1])"
   ]
  },
  {
   "cell_type": "code",
   "execution_count": 68,
   "metadata": {},
   "outputs": [
    {
     "name": "stdout",
     "output_type": "stream",
     "text": [
      "[2381 6534 4020 6368 5590 5390 2324 4585 2281 5983]\n"
     ]
    }
   ],
   "source": [
    "print(np.argsort(sim[idx])[::-1][1:v+1])"
   ]
  },
  {
   "cell_type": "code",
   "execution_count": 69,
   "metadata": {},
   "outputs": [
    {
     "name": "stdout",
     "output_type": "stream",
     "text": [
      "Containment\n",
      "\t\n",
      "Tower Block\n",
      "\t\n",
      "Aliens in the Attic\n",
      "\t\n",
      "The Land Before Time X: The Great Longneck Migration\n",
      "\t\n",
      "The Borrowers\n",
      "\t\n",
      "Superior Firepower: Making 'Aliens'\n",
      "\t\n",
      "Skyscraper\n",
      "\t\n",
      "Meet Dave\n",
      "\t\n",
      "The Last Exorcism Part II\n",
      "\t\n",
      "Critters 3\n",
      "\t\n"
     ]
    }
   ],
   "source": [
    "list=[2381,6534,4020,6368,5590,5390,2324,4585,2281,5983]\n",
    "for x in list:\n",
    "    print(movies['names'].iloc[x])\n",
    "    print('\\t')"
   ]
  },
  {
   "cell_type": "code",
   "execution_count": null,
   "metadata": {},
   "outputs": [],
   "source": []
  }
 ],
 "metadata": {
  "kernelspec": {
   "display_name": "base",
   "language": "python",
   "name": "python3"
  },
  "language_info": {
   "codemirror_mode": {
    "name": "ipython",
    "version": 3
   },
   "file_extension": ".py",
   "mimetype": "text/x-python",
   "name": "python",
   "nbconvert_exporter": "python",
   "pygments_lexer": "ipython3",
   "version": "3.10.10"
  }
 },
 "nbformat": 4,
 "nbformat_minor": 2
}
